{
 "cells": [
  {
   "cell_type": "code",
   "execution_count": null,
   "metadata": {},
   "outputs": [],
   "source": []
  },
  {
   "cell_type": "code",
   "execution_count": 1,
   "metadata": {},
   "outputs": [
    {
     "name": "stdout",
     "output_type": "stream",
     "text": [
      "Total edges in the graph: 189876\n"
     ]
    }
   ],
   "source": [
    "import geopandas as gp\n",
    "import osmnx as ox\n",
    "import numpy as np\n",
    "import time\n",
    "import csv\n",
    "import os\n",
    "\n",
    "import matplotlib.pyplot as plt\n",
    "\n",
    "from tqdm import tqdm\n",
    "from shapely.geometry import Polygon\n",
    "from math import radians, cos, sin, asin, sqrt\n",
    "\n",
    "edge_dataframe = gp.GeoDataFrame.from_file('data/porto/edges.shp')\n",
    "print('Total edges in the graph:' , len(edge_dataframe))\n",
    "edge_dataframe.head()\n",
    "\n",
    "nodes_dataframe = gp.GeoDataFrame.from_file('data/porto/nodes.shp')\n",
    "#print('Total nodes in the graph: ', len(nodes_dataframe))\n",
    "#nodes_dataframe.head()"
   ]
  },
  {
   "cell_type": "code",
   "execution_count": 2,
   "metadata": {},
   "outputs": [],
   "source": [
    "\n",
    "\n",
    "class Edge(object):\n",
    "    def __init__(self, idx, u, v, geometry):\n",
    "        self.idx = idx\n",
    "        self.u = u\n",
    "        self.v = v\n",
    "        self.geometry = geometry\n",
    "\n",
    "def get_edge_from_idx(index):\n",
    "    edge_data = edge_dataframe.iloc[index]\n",
    "    u_pos = np.flatnonzero(nodes_dataframe['osmid']==edge_data.u)\n",
    "    node_u_data = nodes_dataframe.iloc[u_pos]\n",
    "    v_pos = np.flatnonzero(nodes_dataframe['osmid']==edge_data.v)\n",
    "    node_v_data = nodes_dataframe.iloc[v_pos]\n",
    "    \n",
    "    u = (node_u_data.x.iloc[0], node_u_data.y.iloc[0])\n",
    "    v = (node_v_data.x.iloc[0], node_v_data.y.iloc[0])\n",
    "    geo = edge_data.geometry\n",
    "    \n",
    "    \n",
    "    edge = Edge(index, u, v, geo)\n",
    "    \n",
    "    return edge\n",
    "\n",
    "def dict_add_n(dict_to_add, key, n):\n",
    "    if key in dict_to_add.keys():\n",
    "        dict_to_add[key] += n\n",
    "    else:\n",
    "        dict_to_add[key] = n\n",
    "\n",
    "def haversine_dist(coord1, coord2):\n",
    "    lon1, lat1 = coord1[0], coord1[1]\n",
    "    lon2, lat2 = coord2[0], coord2[1]\n",
    "    \n",
    "    # convert decimal degrees to radians \n",
    "    lon1, lat1, lon2, lat2 = map(radians, [lon1, lat1, lon2, lat2])\n",
    "\n",
    "    # haversine formula \n",
    "    dlon = lon2 - lon1 \n",
    "    dlat = lat2 - lat1 \n",
    "    a = sin(dlat/2)**2 + cos(lat1) * cos(lat2) * sin(dlon/2)**2\n",
    "    c = 2 * asin(sqrt(a)) \n",
    "    r = 6371 # Radius of earth in kilometers. Use 3956 for miles. Determines return value units.\n",
    "    return c * r\n",
    "\n",
    "def get_edge_timeslice():\n",
    "    csv_data = open('data/matched_routines.csv', 'r')\n",
    "    dict_reader = csv.DictReader(csv_data)\n",
    "    \n",
    "    edge_timeslice_list = []\n",
    "    edge_timeslice_dict = {}\n",
    "    \n",
    "    processing_count = 1\n",
    "    with tqdm(total=662) as _tqdm:\n",
    "        for item in dict_reader:\n",
    "            _tqdm.set_description('processing: {}/{} trajectory'.format(processing_count, 662))\n",
    "            trajectory_edge_timeslice = {}\n",
    "            if item['match_success'] == 'FALSE':\n",
    "                continue\n",
    "            raw_gps_trajectories = eval(item['raw_gps_trajectories'])\n",
    "            edge_seq = eval(item['fmm-mapped edge indice sequence(map edge id)(equivalent to cpath from FMM)'])\n",
    "\n",
    "            g_pointer = 0\n",
    "            e_pointer = 0\n",
    "\n",
    "\n",
    "            while g_pointer < len(raw_gps_trajectories):\n",
    "                edge = get_edge_from_idx(edge_seq[e_pointer])\n",
    "                gps_coord = raw_gps_trajectories[g_pointer]\n",
    "\n",
    "                if e_pointer == len(edge_seq) - 1:\n",
    "                    dict_add_n(trajectory_edge_timeslice, edge.idx, 1)\n",
    "                    g_pointer += 1\n",
    "                    continue\n",
    "\n",
    "                if haversine_dist(gps_coord, edge.u) > haversine_dist(edge.u, edge.v):\n",
    "                    e_pointer += 1\n",
    "                    edge = get_edge_from_idx(edge_seq[e_pointer])\n",
    "\n",
    "                dict_add_n(trajectory_edge_timeslice, edge.idx, 1)\n",
    "                g_pointer += 1\n",
    "                \n",
    "            _tqdm.update(1)\n",
    "            processing_count += 1\n",
    "            edge_timeslice_list.append(trajectory_edge_timeslice)\n",
    "        \n",
    "    edge_timeslice_dict = compute_edge_timeslice(edge_timeslice_list)\n",
    "    return edge_timeslice_dict\n",
    "\n",
    "def compute_edge_timeslice(edge_timeslice_list):\n",
    "    edge_timeslice_dict = {}\n",
    "    for i in range(0, len(edge_dataframe)):\n",
    "        count = 0\n",
    "        for item in edge_timeslice_list:\n",
    "            if i in item.keys():\n",
    "                dict_add_n(edge_timeslice_dict, i, item[i])\n",
    "                count += 1\n",
    "        if i in edge_timeslice_dict.keys():\n",
    "            edge_timeslice_dict[i] = edge_timeslice_dict[i] / count\n",
    "    \n",
    "    return edge_timeslice_dict  "
   ]
  },
  {
   "cell_type": "code",
   "execution_count": 3,
   "metadata": {},
   "outputs": [
    {
     "name": "stderr",
     "output_type": "stream",
     "text": [
      "processing: 1/662 trajectory:   0%|          | 0/662 [00:00<?, ?it/s]\n"
     ]
    },
    {
     "ename": "KeyError",
     "evalue": "'match_success'",
     "output_type": "error",
     "traceback": [
      "\u001b[0;31m---------------------------------------------------------------------------\u001b[0m",
      "\u001b[0;31mKeyError\u001b[0m                                  Traceback (most recent call last)",
      "\u001b[1;32m/Users/yuwen/Desktop/urban2/aaaaaaaaaaaa.ipynb 单元格 4\u001b[0m line \u001b[0;36m1\n\u001b[0;32m----> <a href='vscode-notebook-cell:/Users/yuwen/Desktop/urban2/aaaaaaaaaaaa.ipynb#W1sZmlsZQ%3D%3D?line=0'>1</a>\u001b[0m edge_timeslice \u001b[39m=\u001b[39m get_edge_timeslice()\n",
      "\u001b[1;32m/Users/yuwen/Desktop/urban2/aaaaaaaaaaaa.ipynb 单元格 4\u001b[0m line \u001b[0;36m5\n\u001b[1;32m     <a href='vscode-notebook-cell:/Users/yuwen/Desktop/urban2/aaaaaaaaaaaa.ipynb#W1sZmlsZQ%3D%3D?line=54'>55</a>\u001b[0m _tqdm\u001b[39m.\u001b[39mset_description(\u001b[39m'\u001b[39m\u001b[39mprocessing: \u001b[39m\u001b[39m{}\u001b[39;00m\u001b[39m/\u001b[39m\u001b[39m{}\u001b[39;00m\u001b[39m trajectory\u001b[39m\u001b[39m'\u001b[39m\u001b[39m.\u001b[39mformat(processing_count, \u001b[39m662\u001b[39m))\n\u001b[1;32m     <a href='vscode-notebook-cell:/Users/yuwen/Desktop/urban2/aaaaaaaaaaaa.ipynb#W1sZmlsZQ%3D%3D?line=55'>56</a>\u001b[0m trajectory_edge_timeslice \u001b[39m=\u001b[39m {}\n\u001b[0;32m---> <a href='vscode-notebook-cell:/Users/yuwen/Desktop/urban2/aaaaaaaaaaaa.ipynb#W1sZmlsZQ%3D%3D?line=56'>57</a>\u001b[0m \u001b[39mif\u001b[39;00m item[\u001b[39m'\u001b[39;49m\u001b[39mmatch_success\u001b[39;49m\u001b[39m'\u001b[39;49m] \u001b[39m==\u001b[39m \u001b[39m'\u001b[39m\u001b[39mFALSE\u001b[39m\u001b[39m'\u001b[39m:\n\u001b[1;32m     <a href='vscode-notebook-cell:/Users/yuwen/Desktop/urban2/aaaaaaaaaaaa.ipynb#W1sZmlsZQ%3D%3D?line=57'>58</a>\u001b[0m     \u001b[39mcontinue\u001b[39;00m\n\u001b[1;32m     <a href='vscode-notebook-cell:/Users/yuwen/Desktop/urban2/aaaaaaaaaaaa.ipynb#W1sZmlsZQ%3D%3D?line=58'>59</a>\u001b[0m raw_gps_trajectories \u001b[39m=\u001b[39m \u001b[39meval\u001b[39m(item[\u001b[39m'\u001b[39m\u001b[39mraw_gps_trajectories\u001b[39m\u001b[39m'\u001b[39m])\n",
      "\u001b[0;31mKeyError\u001b[0m: 'match_success'"
     ]
    }
   ],
   "source": [
    "edge_timeslice = get_edge_timeslice()"
   ]
  }
 ],
 "metadata": {
  "kernelspec": {
   "display_name": "Python 3",
   "language": "python",
   "name": "python3"
  },
  "language_info": {
   "codemirror_mode": {
    "name": "ipython",
    "version": 3
   },
   "file_extension": ".py",
   "mimetype": "text/x-python",
   "name": "python",
   "nbconvert_exporter": "python",
   "pygments_lexer": "ipython3",
   "version": "3.10.11"
  }
 },
 "nbformat": 4,
 "nbformat_minor": 2
}
